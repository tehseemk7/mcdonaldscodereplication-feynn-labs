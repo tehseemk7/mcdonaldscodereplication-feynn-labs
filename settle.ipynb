{
 "cells": [
  {
   "cell_type": "code",
   "execution_count": null,
   "metadata": {},
   "outputs": [],
   "source": [
    "new_clusters = kmeans.predict(new_scaled_features)\n"
   ]
  },
  {
   "cell_type": "code",
   "execution_count": null,
   "metadata": {},
   "outputs": [],
   "source": [
    "new_data['cluster'] = new_clusters\n"
   ]
  },
  {
   "cell_type": "code",
   "execution_count": null,
   "metadata": {},
   "outputs": [
    {
     "data": {
      "text/plain": [
       "Traceback (most recent call last):\n",
       "  File \"C:\\Users\\tehse\\AppData\\Local\\Packages\\PythonSoftwareFoundation.Python.3.12_qbz5n2kfra8p0\\LocalCache\\local-packages\\Python312\\site-packages\\pandas\\core\\groupby\\groupby.py\", line 1942, in _agg_py_fallback\n",
       "    res_values = self._grouper.agg_series(ser, alt, preserve_dtype=True)\n",
       "                 ^^^^^^^^^^^^^^^^^^^^^^^^^^^^^^^^^^^^^^^^^^^^^^^^^^^^^^^\n",
       "  File \"C:\\Users\\tehse\\AppData\\Local\\Packages\\PythonSoftwareFoundation.Python.3.12_qbz5n2kfra8p0\\LocalCache\\local-packages\\Python312\\site-packages\\pandas\\core\\groupby\\ops.py\", line 864, in agg_series\n",
       "    result = self._aggregate_series_pure_python(obj, func)\n",
       "             ^^^^^^^^^^^^^^^^^^^^^^^^^^^^^^^^^^^^^^^^^^^^^\n",
       "  File \"C:\\Users\\tehse\\AppData\\Local\\Packages\\PythonSoftwareFoundation.Python.3.12_qbz5n2kfra8p0\\LocalCache\\local-packages\\Python312\\site-packages\\pandas\\core\\groupby\\ops.py\", line 885, in _aggregate_series_pure_python\n",
       "    res = func(group)\n",
       "          ^^^^^^^^^^^\n",
       "  File \"C:\\Users\\tehse\\AppData\\Local\\Packages\\PythonSoftwareFoundation.Python.3.12_qbz5n2kfra8p0\\LocalCache\\local-packages\\Python312\\site-packages\\pandas\\core\\groupby\\groupby.py\", line 2454, in <lambda>\n",
       "    alt=lambda x: Series(x, copy=False).mean(numeric_only=numeric_only),\n",
       "                  ^^^^^^^^^^^^^^^^^^^^^^^^^^^^^^^^^^^^^^^^^^^^^^^^^^^^^\n",
       "  File \"C:\\Users\\tehse\\AppData\\Local\\Packages\\PythonSoftwareFoundation.Python.3.12_qbz5n2kfra8p0\\LocalCache\\local-packages\\Python312\\site-packages\\pandas\\core\\series.py\", line 6549, in mean\n",
       "    return NDFrame.mean(self, axis, skipna, numeric_only, **kwargs)\n",
       "           ^^^^^^^^^^^^^^^^^^^^^^^^^^^^^^^^^^^^^^^^^^^^^^^^^^^^^^^^\n",
       "  File \"C:\\Users\\tehse\\AppData\\Local\\Packages\\PythonSoftwareFoundation.Python.3.12_qbz5n2kfra8p0\\LocalCache\\local-packages\\Python312\\site-packages\\pandas\\core\\generic.py\", line 12420, in mean\n",
       "    return self._stat_function(\n",
       "           ^^^^^^^^^^^^^^^^^^^^\n",
       "  File \"C:\\Users\\tehse\\AppData\\Local\\Packages\\PythonSoftwareFoundation.Python.3.12_qbz5n2kfra8p0\\LocalCache\\local-packages\\Python312\\site-packages\\pandas\\core\\generic.py\", line 12377, in _stat_function\n",
       "    return self._reduce(\n",
       "           ^^^^^^^^^^^^^\n",
       "  File \"C:\\Users\\tehse\\AppData\\Local\\Packages\\PythonSoftwareFoundation.Python.3.12_qbz5n2kfra8p0\\LocalCache\\local-packages\\Python312\\site-packages\\pandas\\core\\series.py\", line 6457, in _reduce\n",
       "    return op(delegate, skipna=skipna, **kwds)\n",
       "           ^^^^^^^^^^^^^^^^^^^^^^^^^^^^^^^^^^^\n",
       "  File \"C:\\Users\\tehse\\AppData\\Local\\Packages\\PythonSoftwareFoundation.Python.3.12_qbz5n2kfra8p0\\LocalCache\\local-packages\\Python312\\site-packages\\pandas\\core\\nanops.py\", line 147, in f\n",
       "    result = alt(values, axis=axis, skipna=skipna, **kwds)\n",
       "             ^^^^^^^^^^^^^^^^^^^^^^^^^^^^^^^^^^^^^^^^^^^^^\n",
       "  File \"C:\\Users\\tehse\\AppData\\Local\\Packages\\PythonSoftwareFoundation.Python.3.12_qbz5n2kfra8p0\\LocalCache\\local-packages\\Python312\\site-packages\\pandas\\core\\nanops.py\", line 404, in new_func\n",
       "    result = func(values, axis=axis, skipna=skipna, mask=mask, **kwargs)\n",
       "             ^^^^^^^^^^^^^^^^^^^^^^^^^^^^^^^^^^^^^^^^^^^^^^^^^^^^^^^^^^^\n",
       "  File \"C:\\Users\\tehse\\AppData\\Local\\Packages\\PythonSoftwareFoundation.Python.3.12_qbz5n2kfra8p0\\LocalCache\\local-packages\\Python312\\site-packages\\pandas\\core\\nanops.py\", line 720, in nanmean\n",
       "    the_sum = _ensure_numeric(the_sum)\n",
       "              ^^^^^^^^^^^^^^^^^^^^^^^^\n",
       "  File \"C:\\Users\\tehse\\AppData\\Local\\Packages\\PythonSoftwareFoundation.Python.3.12_qbz5n2kfra8p0\\LocalCache\\local-packages\\Python312\\site-packages\\pandas\\core\\nanops.py\", line 1701, in _ensure_numeric\n",
       "    raise TypeError(f\"Could not convert string '{x}' to numeric\")\n",
       "TypeError: Could not convert string 'NoYesNoYesYesYesNoYesYesYesYesNoNoNoYesYesNoYesNoYesNoYesNoNoNoNoNoNoYesNoNoNoYesNoYesNoNoYesYesNoYesNoNoYesNoYesNoYesNoNoNoNoYesYesNoYesNoYesYesYesNoNoNoYesYesYesYesNoNoNoYesNoNoNoYesNoNoNoNoNoNoNoNoYesYesYesYesNoNoNoNoNoNoYesNoYesNoYesYesYesNoYesNoNoYesYesNoNoNoYesNoNoYesYesYesYesYesNoYesYesYesNoYesNoYesYesYesYesYesNoNoYesNoYesYesYesNoYesYesNoYesYesNoYesYesYesYesYesNoYesNoYesNoYesYesNoYesYesNoYesYesNoYesYesYesYesNoNoYesYesNoNoNoYesNoYesYesNoNoYesYesNoNoYesNoNoNoYesNoNoYesNoYesNoYesNoYesNoNoYesYesYesYesNoYesYesYesYesNoNoNoNoYesNoYesNoYesYesNoYesNoYesYesNoNoYesNoNoNoNoNoNoNoYesNoYesYesNoNoNoYesNoNoNoYesNoNoYesNoYesYesYesNoNoYesYesNoYesNoYesYesYesNoYesNoNoYesYesNoNoYesYesYesNoYesNoNoNoNoNoYesNoNoYesNoYesYesNoNoNoNoNoNoYesYesNoNoNoYesNoYesYesYesYesYesYesNoYesYesYesYesYesNoYesNoNoYesNoNoNoYesNoYesNoYesYesNoNoNoNoNoYesYesYesNoYesNoYesNoYesNoYesNoNoNoYesNoYesNoNoNoNoNoNoNoNoNoNoYesNoYesYesNoYesNoNoYesNoYesNoYesYesYesYesYesNoNoYesYesYesYesNoYesNoYesYesNoYesNoNoYesNoYesYesYesYesNoYesYesNoNoYesYesYesNoNoYesYesNoYesYesNoNoNoYesNoYesYesYesYesNoYesYesYesYesNoNoYesNoYesNoYesNoYesNoNoYesNoNoNoYesYesYesYesNoYesNoNoNoYesYesYesNoNoYesNoNoNoYesNoNoNoYesYesYesNoYesNoNoYesYesNoNoNoYesYesNoYesYesYesNoNoNoYesNoYesYesNoYesYesNoYesYesYesNoNoNoNoYesNoNoYesYesNoYesNoNoYesYesNoYesNoNoYesYesNoYesYesNoNoNoNoNoYesYesNoYesYesNoYesYesNoNoNoYesNoNoNoNoYesNoYesYesNoNoNoNoYesYesYesYesNoNoYesYesYesNoNoYesYesYesNoNoNoNoNoYesNoNoNoYesNoYesNoYesNoYesYesYesNoNoYesNo' to numeric\n",
       "\n",
       "The above exception was the direct cause of the following exception:\n",
       "\n",
       "Traceback (most recent call last):\n",
       "  File \"c:\\Users\\tehse\\.vscode\\extensions\\ms-python.python-2024.13.2024082701-win32-x64\\python_files\\python_server.py\", line 130, in exec_user_input\n",
       "    retval = callable_(user_input, user_globals)\n",
       "             ^^^^^^^^^^^^^^^^^^^^^^^^^^^^^^^^^^^\n",
       "  File \"<string>\", line 1, in <module>\n",
       "  File \"C:\\Users\\tehse\\AppData\\Local\\Packages\\PythonSoftwareFoundation.Python.3.12_qbz5n2kfra8p0\\LocalCache\\local-packages\\Python312\\site-packages\\pandas\\core\\groupby\\groupby.py\", line 2452, in mean\n",
       "    result = self._cython_agg_general(\n",
       "             ^^^^^^^^^^^^^^^^^^^^^^^^^\n",
       "  File \"C:\\Users\\tehse\\AppData\\Local\\Packages\\PythonSoftwareFoundation.Python.3.12_qbz5n2kfra8p0\\LocalCache\\local-packages\\Python312\\site-packages\\pandas\\core\\groupby\\groupby.py\", line 1998, in _cython_agg_general\n",
       "    new_mgr = data.grouped_reduce(array_func)\n",
       "              ^^^^^^^^^^^^^^^^^^^^^^^^^^^^^^^\n",
       "  File \"C:\\Users\\tehse\\AppData\\Local\\Packages\\PythonSoftwareFoundation.Python.3.12_qbz5n2kfra8p0\\LocalCache\\local-packages\\Python312\\site-packages\\pandas\\core\\internals\\managers.py\", line 1469, in grouped_reduce\n",
       "    applied = sb.apply(func)\n",
       "              ^^^^^^^^^^^^^^\n",
       "  File \"C:\\Users\\tehse\\AppData\\Local\\Packages\\PythonSoftwareFoundation.Python.3.12_qbz5n2kfra8p0\\LocalCache\\local-packages\\Python312\\site-packages\\pandas\\core\\internals\\blocks.py\", line 393, in apply\n",
       "    result = func(self.values, **kwargs)\n",
       "             ^^^^^^^^^^^^^^^^^^^^^^^^^^^\n",
       "  File \"C:\\Users\\tehse\\AppData\\Local\\Packages\\PythonSoftwareFoundation.Python.3.12_qbz5n2kfra8p0\\LocalCache\\local-packages\\Python312\\site-packages\\pandas\\core\\groupby\\groupby.py\", line 1995, in array_func\n",
       "    result = self._agg_py_fallback(how, values, ndim=data.ndim, alt=alt)\n",
       "             ^^^^^^^^^^^^^^^^^^^^^^^^^^^^^^^^^^^^^^^^^^^^^^^^^^^^^^^^^^^\n",
       "  File \"C:\\Users\\tehse\\AppData\\Local\\Packages\\PythonSoftwareFoundation.Python.3.12_qbz5n2kfra8p0\\LocalCache\\local-packages\\Python312\\site-packages\\pandas\\core\\groupby\\groupby.py\", line 1946, in _agg_py_fallback\n",
       "    raise type(err)(msg) from err\n",
       "TypeError: agg function failed [how->mean,dtype->object]\n",
       "\n"
      ]
     },
     "metadata": {},
     "output_type": "display_data"
    }
   ],
   "source": [
    "new_profile = new_data.groupby('cluster').mean()\n"
   ]
  },
  {
   "cell_type": "code",
   "execution_count": null,
   "metadata": {},
   "outputs": [
    {
     "data": {
      "text/plain": [
       "Traceback (most recent call last):\n",
       "  File \"C:\\Users\\tehse\\AppData\\Local\\Packages\\PythonSoftwareFoundation.Python.3.12_qbz5n2kfra8p0\\LocalCache\\local-packages\\Python312\\site-packages\\pandas\\core\\groupby\\groupby.py\", line 1942, in _agg_py_fallback\n",
       "    res_values = self._grouper.agg_series(ser, alt, preserve_dtype=True)\n",
       "                 ^^^^^^^^^^^^^^^^^^^^^^^^^^^^^^^^^^^^^^^^^^^^^^^^^^^^^^^\n",
       "  File \"C:\\Users\\tehse\\AppData\\Local\\Packages\\PythonSoftwareFoundation.Python.3.12_qbz5n2kfra8p0\\LocalCache\\local-packages\\Python312\\site-packages\\pandas\\core\\groupby\\ops.py\", line 864, in agg_series\n",
       "    result = self._aggregate_series_pure_python(obj, func)\n",
       "             ^^^^^^^^^^^^^^^^^^^^^^^^^^^^^^^^^^^^^^^^^^^^^\n",
       "  File \"C:\\Users\\tehse\\AppData\\Local\\Packages\\PythonSoftwareFoundation.Python.3.12_qbz5n2kfra8p0\\LocalCache\\local-packages\\Python312\\site-packages\\pandas\\core\\groupby\\ops.py\", line 885, in _aggregate_series_pure_python\n",
       "    res = func(group)\n",
       "          ^^^^^^^^^^^\n",
       "  File \"C:\\Users\\tehse\\AppData\\Local\\Packages\\PythonSoftwareFoundation.Python.3.12_qbz5n2kfra8p0\\LocalCache\\local-packages\\Python312\\site-packages\\pandas\\core\\groupby\\groupby.py\", line 2454, in <lambda>\n",
       "    alt=lambda x: Series(x, copy=False).mean(numeric_only=numeric_only),\n",
       "                  ^^^^^^^^^^^^^^^^^^^^^^^^^^^^^^^^^^^^^^^^^^^^^^^^^^^^^\n",
       "  File \"C:\\Users\\tehse\\AppData\\Local\\Packages\\PythonSoftwareFoundation.Python.3.12_qbz5n2kfra8p0\\LocalCache\\local-packages\\Python312\\site-packages\\pandas\\core\\series.py\", line 6549, in mean\n",
       "    return NDFrame.mean(self, axis, skipna, numeric_only, **kwargs)\n",
       "           ^^^^^^^^^^^^^^^^^^^^^^^^^^^^^^^^^^^^^^^^^^^^^^^^^^^^^^^^\n",
       "  File \"C:\\Users\\tehse\\AppData\\Local\\Packages\\PythonSoftwareFoundation.Python.3.12_qbz5n2kfra8p0\\LocalCache\\local-packages\\Python312\\site-packages\\pandas\\core\\generic.py\", line 12420, in mean\n",
       "    return self._stat_function(\n",
       "           ^^^^^^^^^^^^^^^^^^^^\n",
       "  File \"C:\\Users\\tehse\\AppData\\Local\\Packages\\PythonSoftwareFoundation.Python.3.12_qbz5n2kfra8p0\\LocalCache\\local-packages\\Python312\\site-packages\\pandas\\core\\generic.py\", line 12377, in _stat_function\n",
       "    return self._reduce(\n",
       "           ^^^^^^^^^^^^^\n",
       "  File \"C:\\Users\\tehse\\AppData\\Local\\Packages\\PythonSoftwareFoundation.Python.3.12_qbz5n2kfra8p0\\LocalCache\\local-packages\\Python312\\site-packages\\pandas\\core\\series.py\", line 6457, in _reduce\n",
       "    return op(delegate, skipna=skipna, **kwds)\n",
       "           ^^^^^^^^^^^^^^^^^^^^^^^^^^^^^^^^^^^\n",
       "  File \"C:\\Users\\tehse\\AppData\\Local\\Packages\\PythonSoftwareFoundation.Python.3.12_qbz5n2kfra8p0\\LocalCache\\local-packages\\Python312\\site-packages\\pandas\\core\\nanops.py\", line 147, in f\n",
       "    result = alt(values, axis=axis, skipna=skipna, **kwds)\n",
       "             ^^^^^^^^^^^^^^^^^^^^^^^^^^^^^^^^^^^^^^^^^^^^^\n",
       "  File \"C:\\Users\\tehse\\AppData\\Local\\Packages\\PythonSoftwareFoundation.Python.3.12_qbz5n2kfra8p0\\LocalCache\\local-packages\\Python312\\site-packages\\pandas\\core\\nanops.py\", line 404, in new_func\n",
       "    result = func(values, axis=axis, skipna=skipna, mask=mask, **kwargs)\n",
       "             ^^^^^^^^^^^^^^^^^^^^^^^^^^^^^^^^^^^^^^^^^^^^^^^^^^^^^^^^^^^\n",
       "  File \"C:\\Users\\tehse\\AppData\\Local\\Packages\\PythonSoftwareFoundation.Python.3.12_qbz5n2kfra8p0\\LocalCache\\local-packages\\Python312\\site-packages\\pandas\\core\\nanops.py\", line 720, in nanmean\n",
       "    the_sum = _ensure_numeric(the_sum)\n",
       "              ^^^^^^^^^^^^^^^^^^^^^^^^\n",
       "  File \"C:\\Users\\tehse\\AppData\\Local\\Packages\\PythonSoftwareFoundation.Python.3.12_qbz5n2kfra8p0\\LocalCache\\local-packages\\Python312\\site-packages\\pandas\\core\\nanops.py\", line 1701, in _ensure_numeric\n",
       "    raise TypeError(f\"Could not convert string '{x}' to numeric\")\n",
       "TypeError: Could not convert string 'NoYesYesNoYesNoYesNoYesYesYesYesNoYesNoYesNoYesNoYesYesYesYesNoNoNoNoYesNoNoYesYesYesYesNoYesYesNoYesYesYesNoNoNoYesYesYesYesNoNoYesYesNoYesNoNoYesYesNoNoYesYesYesNoYesNoNoYesNoNoYesNoYesYesYesNoYesNoYesNoYesYesNoNoNoYesYesNoYesNoNoNoNoNoYesYesNoNoNoNoYesYesNoNoNoYesYesNoYesYesYesNoNoNoYesNoYesYesYesNoYesNoYesYesNoNoYesYesYesNoNoYesNoYesNoYesNoYesYesYesNoYesNoNoNoNoYesNoNoYesNoYes' to numeric\n",
       "\n",
       "The above exception was the direct cause of the following exception:\n",
       "\n",
       "Traceback (most recent call last):\n",
       "  File \"c:\\Users\\tehse\\.vscode\\extensions\\ms-python.python-2024.13.2024082701-win32-x64\\python_files\\python_server.py\", line 130, in exec_user_input\n",
       "    retval = callable_(user_input, user_globals)\n",
       "             ^^^^^^^^^^^^^^^^^^^^^^^^^^^^^^^^^^^\n",
       "  File \"<string>\", line 1, in <module>\n",
       "  File \"C:\\Users\\tehse\\AppData\\Local\\Packages\\PythonSoftwareFoundation.Python.3.12_qbz5n2kfra8p0\\LocalCache\\local-packages\\Python312\\site-packages\\pandas\\core\\groupby\\groupby.py\", line 2452, in mean\n",
       "    result = self._cython_agg_general(\n",
       "             ^^^^^^^^^^^^^^^^^^^^^^^^^\n",
       "  File \"C:\\Users\\tehse\\AppData\\Local\\Packages\\PythonSoftwareFoundation.Python.3.12_qbz5n2kfra8p0\\LocalCache\\local-packages\\Python312\\site-packages\\pandas\\core\\groupby\\groupby.py\", line 1998, in _cython_agg_general\n",
       "    new_mgr = data.grouped_reduce(array_func)\n",
       "              ^^^^^^^^^^^^^^^^^^^^^^^^^^^^^^^\n",
       "  File \"C:\\Users\\tehse\\AppData\\Local\\Packages\\PythonSoftwareFoundation.Python.3.12_qbz5n2kfra8p0\\LocalCache\\local-packages\\Python312\\site-packages\\pandas\\core\\internals\\managers.py\", line 1469, in grouped_reduce\n",
       "    applied = sb.apply(func)\n",
       "              ^^^^^^^^^^^^^^\n",
       "  File \"C:\\Users\\tehse\\AppData\\Local\\Packages\\PythonSoftwareFoundation.Python.3.12_qbz5n2kfra8p0\\LocalCache\\local-packages\\Python312\\site-packages\\pandas\\core\\internals\\blocks.py\", line 393, in apply\n",
       "    result = func(self.values, **kwargs)\n",
       "             ^^^^^^^^^^^^^^^^^^^^^^^^^^^\n",
       "  File \"C:\\Users\\tehse\\AppData\\Local\\Packages\\PythonSoftwareFoundation.Python.3.12_qbz5n2kfra8p0\\LocalCache\\local-packages\\Python312\\site-packages\\pandas\\core\\groupby\\groupby.py\", line 1995, in array_func\n",
       "    result = self._agg_py_fallback(how, values, ndim=data.ndim, alt=alt)\n",
       "             ^^^^^^^^^^^^^^^^^^^^^^^^^^^^^^^^^^^^^^^^^^^^^^^^^^^^^^^^^^^\n",
       "  File \"C:\\Users\\tehse\\AppData\\Local\\Packages\\PythonSoftwareFoundation.Python.3.12_qbz5n2kfra8p0\\LocalCache\\local-packages\\Python312\\site-packages\\pandas\\core\\groupby\\groupby.py\", line 1946, in _agg_py_fallback\n",
       "    raise type(err)(msg) from err\n",
       "TypeError: agg function failed [how->mean,dtype->object]\n",
       "\n"
      ]
     },
     "metadata": {},
     "output_type": "display_data"
    }
   ],
   "source": [
    "new_profile = new_data.groupby('Like').mean()\n"
   ]
  },
  {
   "cell_type": "code",
   "execution_count": null,
   "metadata": {},
   "outputs": [
    {
     "data": {
      "text/plain": [
       "Traceback (most recent call last):\n",
       "  File \"C:\\Users\\tehse\\AppData\\Local\\Packages\\PythonSoftwareFoundation.Python.3.12_qbz5n2kfra8p0\\LocalCache\\local-packages\\Python312\\site-packages\\pandas\\core\\groupby\\groupby.py\", line 1942, in _agg_py_fallback\n",
       "    res_values = self._grouper.agg_series(ser, alt, preserve_dtype=True)\n",
       "                 ^^^^^^^^^^^^^^^^^^^^^^^^^^^^^^^^^^^^^^^^^^^^^^^^^^^^^^^\n",
       "  File \"C:\\Users\\tehse\\AppData\\Local\\Packages\\PythonSoftwareFoundation.Python.3.12_qbz5n2kfra8p0\\LocalCache\\local-packages\\Python312\\site-packages\\pandas\\core\\groupby\\ops.py\", line 864, in agg_series\n",
       "    result = self._aggregate_series_pure_python(obj, func)\n",
       "             ^^^^^^^^^^^^^^^^^^^^^^^^^^^^^^^^^^^^^^^^^^^^^\n",
       "  File \"C:\\Users\\tehse\\AppData\\Local\\Packages\\PythonSoftwareFoundation.Python.3.12_qbz5n2kfra8p0\\LocalCache\\local-packages\\Python312\\site-packages\\pandas\\core\\groupby\\ops.py\", line 885, in _aggregate_series_pure_python\n",
       "    res = func(group)\n",
       "          ^^^^^^^^^^^\n",
       "  File \"C:\\Users\\tehse\\AppData\\Local\\Packages\\PythonSoftwareFoundation.Python.3.12_qbz5n2kfra8p0\\LocalCache\\local-packages\\Python312\\site-packages\\pandas\\core\\groupby\\groupby.py\", line 2454, in <lambda>\n",
       "    alt=lambda x: Series(x, copy=False).mean(numeric_only=numeric_only),\n",
       "                  ^^^^^^^^^^^^^^^^^^^^^^^^^^^^^^^^^^^^^^^^^^^^^^^^^^^^^\n",
       "  File \"C:\\Users\\tehse\\AppData\\Local\\Packages\\PythonSoftwareFoundation.Python.3.12_qbz5n2kfra8p0\\LocalCache\\local-packages\\Python312\\site-packages\\pandas\\core\\series.py\", line 6549, in mean\n",
       "    return NDFrame.mean(self, axis, skipna, numeric_only, **kwargs)\n",
       "           ^^^^^^^^^^^^^^^^^^^^^^^^^^^^^^^^^^^^^^^^^^^^^^^^^^^^^^^^\n",
       "  File \"C:\\Users\\tehse\\AppData\\Local\\Packages\\PythonSoftwareFoundation.Python.3.12_qbz5n2kfra8p0\\LocalCache\\local-packages\\Python312\\site-packages\\pandas\\core\\generic.py\", line 12420, in mean\n",
       "    return self._stat_function(\n",
       "           ^^^^^^^^^^^^^^^^^^^^\n",
       "  File \"C:\\Users\\tehse\\AppData\\Local\\Packages\\PythonSoftwareFoundation.Python.3.12_qbz5n2kfra8p0\\LocalCache\\local-packages\\Python312\\site-packages\\pandas\\core\\generic.py\", line 12377, in _stat_function\n",
       "    return self._reduce(\n",
       "           ^^^^^^^^^^^^^\n",
       "  File \"C:\\Users\\tehse\\AppData\\Local\\Packages\\PythonSoftwareFoundation.Python.3.12_qbz5n2kfra8p0\\LocalCache\\local-packages\\Python312\\site-packages\\pandas\\core\\series.py\", line 6457, in _reduce\n",
       "    return op(delegate, skipna=skipna, **kwds)\n",
       "           ^^^^^^^^^^^^^^^^^^^^^^^^^^^^^^^^^^^\n",
       "  File \"C:\\Users\\tehse\\AppData\\Local\\Packages\\PythonSoftwareFoundation.Python.3.12_qbz5n2kfra8p0\\LocalCache\\local-packages\\Python312\\site-packages\\pandas\\core\\nanops.py\", line 147, in f\n",
       "    result = alt(values, axis=axis, skipna=skipna, **kwds)\n",
       "             ^^^^^^^^^^^^^^^^^^^^^^^^^^^^^^^^^^^^^^^^^^^^^\n",
       "  File \"C:\\Users\\tehse\\AppData\\Local\\Packages\\PythonSoftwareFoundation.Python.3.12_qbz5n2kfra8p0\\LocalCache\\local-packages\\Python312\\site-packages\\pandas\\core\\nanops.py\", line 404, in new_func\n",
       "    result = func(values, axis=axis, skipna=skipna, mask=mask, **kwargs)\n",
       "             ^^^^^^^^^^^^^^^^^^^^^^^^^^^^^^^^^^^^^^^^^^^^^^^^^^^^^^^^^^^\n",
       "  File \"C:\\Users\\tehse\\AppData\\Local\\Packages\\PythonSoftwareFoundation.Python.3.12_qbz5n2kfra8p0\\LocalCache\\local-packages\\Python312\\site-packages\\pandas\\core\\nanops.py\", line 720, in nanmean\n",
       "    the_sum = _ensure_numeric(the_sum)\n",
       "              ^^^^^^^^^^^^^^^^^^^^^^^^\n",
       "  File \"C:\\Users\\tehse\\AppData\\Local\\Packages\\PythonSoftwareFoundation.Python.3.12_qbz5n2kfra8p0\\LocalCache\\local-packages\\Python312\\site-packages\\pandas\\core\\nanops.py\", line 1701, in _ensure_numeric\n",
       "    raise TypeError(f\"Could not convert string '{x}' to numeric\")\n",
       "TypeError: Could not convert string 'NoYesNoYesYesYesNoYesYesYesYesNoNoNoYesYesNoYesNoYesNoYesNoNoNoNoNoNoYesNoNoNoYesNoYesNoNoYesYesNoYesNoNoYesNoYesNoYesNoNoNoNoYesYesNoYesNoYesYesYesNoNoNoYesYesYesYesNoNoNoYesNoNoNoYesNoNoNoNoNoNoNoNoYesYesYesYesNoNoNoNoNoNoYesNoYesNoYesYesYesNoYesNoNoYesYesNoNoNoYesNoNoYesYesYesYesYesNoYesYesYesNoYesNoYesYesYesYesYesNoNoYesNoYesYesYesNoYesYesNoYesYesNoYesYesYesYesYesNoYesNoYesNoYesYesNoYesYesNoYesYesNoYesYesYesYesNoNoYesYesNoNoNoYesNoYesYesNoNoYesYesNoNoYesNoNoNoYesNoNoYesNoYesNoYesNoYesNoNoYesYesYesYesNoYesYesYesYesNoNoNoNoYesNoYesNoYesYesNoYesNoYesYesNoNoYesNoNoNoNoNoNoNoYesNoYesYesNoNoNoYesNoNoNoYesNoNoYesNoYesYesYesNoNoYesYesNoYesNoYesYesYesNoYesNoNoYesYesNoNoYesYesYesNoYesNoNoNoNoNoYesNoNoYesNoYesYesNoNoNoNoNoNoYesYesNoNoNoYesNoYesYesYesYesYesYesNoYesYesYesYesYesNoYesNoNoYesNoNoNoYesNoYesNoYesYesNoNoNoNoNoYesYesYesNoYesNoYesNoYesNoYesNoNoNoYesNoYesNoNoNoNoNoNoNoNoNoNoYesNoYesYesNoYesNoNoYesNoYesNoYesYesYesYesYesNoNoYesYesYesYesNoYesNoYesYesNoYesNoNoYesNoYesYesYesYesNoYesYesNoNoYesYesYesNoNoYesYesNoYesYesNoNoNoYesNoYesYesYesYesNoYesYesYesYesNoNoYesNoYesNoYesNoYesNoNoYesNoNoNoYesYesYesYesNoYesNoNoNoYesYesYesNoNoYesNoNoNoYesNoNoNoYesYesYesNoYesNoNoYesYesNoNoNoYesYesNoYesYesYesNoNoNoYesNoYesYesNoYesYesNoYesYesYesNoNoNoNoYesNoNoYesYesNoYesNoNoYesYesNoYesNoNoYesYesNoYesYesNoNoNoNoNoYesYesNoYesYesNoYesYesNoNoNoYesNoNoNoNoYesNoYesYesNoNoNoNoYesYesYesYesNoNoYesYesYesNoNoYesYesYesNoNoNoNoNoYesNoNoNoYesNoYesNoYesNoYesYesYesNoNoYesNo' to numeric\n",
       "\n",
       "The above exception was the direct cause of the following exception:\n",
       "\n",
       "Traceback (most recent call last):\n",
       "  File \"c:\\Users\\tehse\\.vscode\\extensions\\ms-python.python-2024.13.2024082701-win32-x64\\python_files\\python_server.py\", line 130, in exec_user_input\n",
       "    retval = callable_(user_input, user_globals)\n",
       "             ^^^^^^^^^^^^^^^^^^^^^^^^^^^^^^^^^^^\n",
       "  File \"<string>\", line 1, in <module>\n",
       "  File \"C:\\Users\\tehse\\AppData\\Local\\Packages\\PythonSoftwareFoundation.Python.3.12_qbz5n2kfra8p0\\LocalCache\\local-packages\\Python312\\site-packages\\pandas\\core\\groupby\\groupby.py\", line 2452, in mean\n",
       "    result = self._cython_agg_general(\n",
       "             ^^^^^^^^^^^^^^^^^^^^^^^^^\n",
       "  File \"C:\\Users\\tehse\\AppData\\Local\\Packages\\PythonSoftwareFoundation.Python.3.12_qbz5n2kfra8p0\\LocalCache\\local-packages\\Python312\\site-packages\\pandas\\core\\groupby\\groupby.py\", line 1998, in _cython_agg_general\n",
       "    new_mgr = data.grouped_reduce(array_func)\n",
       "              ^^^^^^^^^^^^^^^^^^^^^^^^^^^^^^^\n",
       "  File \"C:\\Users\\tehse\\AppData\\Local\\Packages\\PythonSoftwareFoundation.Python.3.12_qbz5n2kfra8p0\\LocalCache\\local-packages\\Python312\\site-packages\\pandas\\core\\internals\\managers.py\", line 1469, in grouped_reduce\n",
       "    applied = sb.apply(func)\n",
       "              ^^^^^^^^^^^^^^\n",
       "  File \"C:\\Users\\tehse\\AppData\\Local\\Packages\\PythonSoftwareFoundation.Python.3.12_qbz5n2kfra8p0\\LocalCache\\local-packages\\Python312\\site-packages\\pandas\\core\\internals\\blocks.py\", line 393, in apply\n",
       "    result = func(self.values, **kwargs)\n",
       "             ^^^^^^^^^^^^^^^^^^^^^^^^^^^\n",
       "  File \"C:\\Users\\tehse\\AppData\\Local\\Packages\\PythonSoftwareFoundation.Python.3.12_qbz5n2kfra8p0\\LocalCache\\local-packages\\Python312\\site-packages\\pandas\\core\\groupby\\groupby.py\", line 1995, in array_func\n",
       "    result = self._agg_py_fallback(how, values, ndim=data.ndim, alt=alt)\n",
       "             ^^^^^^^^^^^^^^^^^^^^^^^^^^^^^^^^^^^^^^^^^^^^^^^^^^^^^^^^^^^\n",
       "  File \"C:\\Users\\tehse\\AppData\\Local\\Packages\\PythonSoftwareFoundation.Python.3.12_qbz5n2kfra8p0\\LocalCache\\local-packages\\Python312\\site-packages\\pandas\\core\\groupby\\groupby.py\", line 1946, in _agg_py_fallback\n",
       "    raise type(err)(msg) from err\n",
       "TypeError: agg function failed [how->mean,dtype->object]\n",
       "\n"
      ]
     },
     "metadata": {},
     "output_type": "display_data"
    }
   ],
   "source": [
    "new_profile = new_data.groupby('cluster').mean()\n"
   ]
  },
  {
   "cell_type": "code",
   "execution_count": null,
   "metadata": {},
   "outputs": [
    {
     "data": {
      "text/plain": [
       "Traceback (most recent call last):\n",
       "  File \"c:\\Users\\tehse\\.vscode\\extensions\\ms-python.python-2024.13.2024082701-win32-x64\\python_files\\python_server.py\", line 130, in exec_user_input\n",
       "    retval = callable_(user_input, user_globals)\n",
       "             ^^^^^^^^^^^^^^^^^^^^^^^^^^^^^^^^^^^\n",
       "  File \"<string>\", line 1, in <module>\n",
       "  File \"C:\\Users\\tehse\\AppData\\Local\\Packages\\PythonSoftwareFoundation.Python.3.12_qbz5n2kfra8p0\\LocalCache\\local-packages\\Python312\\site-packages\\pandas\\core\\groupby\\generic.py\", line 1432, in aggregate\n",
       "    result = op.agg()\n",
       "             ^^^^^^^^\n",
       "  File \"C:\\Users\\tehse\\AppData\\Local\\Packages\\PythonSoftwareFoundation.Python.3.12_qbz5n2kfra8p0\\LocalCache\\local-packages\\Python312\\site-packages\\pandas\\core\\apply.py\", line 190, in agg\n",
       "    return self.agg_dict_like()\n",
       "           ^^^^^^^^^^^^^^^^^^^^\n",
       "  File \"C:\\Users\\tehse\\AppData\\Local\\Packages\\PythonSoftwareFoundation.Python.3.12_qbz5n2kfra8p0\\LocalCache\\local-packages\\Python312\\site-packages\\pandas\\core\\apply.py\", line 423, in agg_dict_like\n",
       "    return self.agg_or_apply_dict_like(op_name=\"agg\")\n",
       "           ^^^^^^^^^^^^^^^^^^^^^^^^^^^^^^^^^^^^^^^^^^\n",
       "  File \"C:\\Users\\tehse\\AppData\\Local\\Packages\\PythonSoftwareFoundation.Python.3.12_qbz5n2kfra8p0\\LocalCache\\local-packages\\Python312\\site-packages\\pandas\\core\\apply.py\", line 1608, in agg_or_apply_dict_like\n",
       "    result_index, result_data = self.compute_dict_like(\n",
       "                                ^^^^^^^^^^^^^^^^^^^^^^^\n",
       "  File \"C:\\Users\\tehse\\AppData\\Local\\Packages\\PythonSoftwareFoundation.Python.3.12_qbz5n2kfra8p0\\LocalCache\\local-packages\\Python312\\site-packages\\pandas\\core\\apply.py\", line 497, in compute_dict_like\n",
       "    getattr(obj._gotitem(key, ndim=1), op_name)(how, **kwargs)\n",
       "  File \"C:\\Users\\tehse\\AppData\\Local\\Packages\\PythonSoftwareFoundation.Python.3.12_qbz5n2kfra8p0\\LocalCache\\local-packages\\Python312\\site-packages\\pandas\\core\\groupby\\generic.py\", line 249, in aggregate\n",
       "    return getattr(self, func)(*args, **kwargs)\n",
       "           ^^^^^^^^^^^^^^^^^^^\n",
       "  File \"C:\\Users\\tehse\\AppData\\Local\\Packages\\PythonSoftwareFoundation.Python.3.12_qbz5n2kfra8p0\\LocalCache\\local-packages\\Python312\\site-packages\\pandas\\core\\groupby\\groupby.py\", line 1363, in __getattr__\n",
       "    raise AttributeError(\n",
       "AttributeError: 'SeriesGroupBy' object has no attribute 'mode'\n",
       "\n"
      ]
     },
     "metadata": {},
     "output_type": "display_data"
    }
   ],
   "source": [
    "new_profile = new_data.groupby('cluster').agg({'cheap': 'mode', 'tasty': 'mode', 'expensive': 'mode'})\n"
   ]
  },
  {
   "cell_type": "code",
   "execution_count": null,
   "metadata": {},
   "outputs": [],
   "source": [
    "new_profile = new_data.groupby('cluster').apply(lambda x: x.mode().iloc[0])\n"
   ]
  },
  {
   "cell_type": "code",
   "execution_count": null,
   "metadata": {},
   "outputs": [],
   "source": [
    "new_profile = new_data.groupby('cluster').apply(lambda x: x.mode().iloc[0])\n"
   ]
  },
  {
   "cell_type": "code",
   "execution_count": null,
   "metadata": {},
   "outputs": [
    {
     "data": {
      "text/plain": [
       "0       yummy convenient spicy fattening  ... Age VisitFrequency  Gender  cluster\n",
       "cluster                                   ...                                    \n",
       "0          No        Yes    No       Yes  ...  55   Once a month    Male        0\n",
       "1         Yes        Yes    No       Yes  ...  55   Once a month  Female        1\n",
       "\n",
       "[2 rows x 16 columns]\n"
      ]
     },
     "metadata": {},
     "output_type": "display_data"
    }
   ],
   "source": [
    "print(new_profile)\n"
   ]
  },
  {
   "cell_type": "code",
   "execution_count": null,
   "metadata": {},
   "outputs": [
    {
     "data": {
      "text/plain": [
       "Figure(1200x800)\n"
      ]
     },
     "metadata": {},
     "output_type": "display_data"
    }
   ],
   "source": [
    "plt.figure(figsize=(12, 8))\n"
   ]
  },
  {
   "cell_type": "code",
   "execution_count": null,
   "metadata": {},
   "outputs": [
    {
     "data": {
      "text/plain": [
       "Traceback (most recent call last):\n",
       "  File \"c:\\Users\\tehse\\.vscode\\extensions\\ms-python.python-2024.13.2024082701-win32-x64\\python_files\\python_server.py\", line 130, in exec_user_input\n",
       "    retval = callable_(user_input, user_globals)\n",
       "             ^^^^^^^^^^^^^^^^^^^^^^^^^^^^^^^^^^^\n",
       "  File \"<string>\", line 1, in <module>\n",
       "NameError: name 'profile' is not defined. Did you forget to import 'profile'\n",
       "\n"
      ]
     },
     "metadata": {},
     "output_type": "display_data"
    }
   ],
   "source": [
    "profile.plot(kind='bar', position=1, label='Old Profile')\n"
   ]
  },
  {
   "cell_type": "code",
   "execution_count": null,
   "metadata": {},
   "outputs": [
    {
     "data": {
      "text/plain": [
       "Traceback (most recent call last):\n",
       "  File \"c:\\Users\\tehse\\.vscode\\extensions\\ms-python.python-2024.13.2024082701-win32-x64\\python_files\\python_server.py\", line 130, in exec_user_input\n",
       "    retval = callable_(user_input, user_globals)\n",
       "             ^^^^^^^^^^^^^^^^^^^^^^^^^^^^^^^^^^^\n",
       "  File \"<string>\", line 1, in <module>\n",
       "NameError: name 'profile' is not defined. Did you forget to import 'profile'\n",
       "\n"
      ]
     },
     "metadata": {},
     "output_type": "display_data"
    }
   ],
   "source": [
    "profile.plot(kind='bar', position=0, label='Old Profile')\n"
   ]
  },
  {
   "cell_type": "code",
   "execution_count": null,
   "metadata": {},
   "outputs": [
    {
     "data": {
      "text/plain": [
       "Axes(0.125,0.11;0.775x0.77)\n"
      ]
     },
     "metadata": {},
     "output_type": "display_data"
    }
   ],
   "source": [
    "new_profile.plot(kind='bar', position=0, label='New Profile')\n"
   ]
  },
  {
   "cell_type": "code",
   "execution_count": null,
   "metadata": {},
   "outputs": [
    {
     "data": {
      "text/plain": [
       "Axes(0.125,0.11;0.775x0.77)\n"
      ]
     },
     "metadata": {},
     "output_type": "display_data"
    }
   ],
   "source": [
    "new_profile.plot(kind='bar', position=0, label='New Profile')\n"
   ]
  },
  {
   "cell_type": "code",
   "execution_count": null,
   "metadata": {},
   "outputs": [
    {
     "data": {
      "text/plain": [
       "Text(0.5, 1.0, 'Comparison of Old and New Segment Profiles')\n"
      ]
     },
     "metadata": {},
     "output_type": "display_data"
    }
   ],
   "source": [
    "plt.title('Comparison of Old and New Segment Profiles')\n"
   ]
  },
  {
   "cell_type": "code",
   "execution_count": null,
   "metadata": {},
   "outputs": [
    {
     "data": {
      "text/plain": [
       "Text(0.5, 0, 'Cluster')\n"
      ]
     },
     "metadata": {},
     "output_type": "display_data"
    }
   ],
   "source": [
    "plt.xlabel('Cluster')\n"
   ]
  },
  {
   "cell_type": "code",
   "execution_count": null,
   "metadata": {},
   "outputs": [
    {
     "data": {
      "text/plain": [
       "Text(0, 0.5, 'Mean Value')\n"
      ]
     },
     "metadata": {},
     "output_type": "display_data"
    }
   ],
   "source": [
    "plt.ylabel('Mean Value')\n"
   ]
  },
  {
   "cell_type": "code",
   "execution_count": null,
   "metadata": {},
   "outputs": [
    {
     "data": {
      "text/plain": [
       "Legend\n"
      ]
     },
     "metadata": {},
     "output_type": "display_data"
    }
   ],
   "source": [
    "plt.legend()\n"
   ]
  },
  {
   "cell_type": "code",
   "execution_count": null,
   "metadata": {},
   "outputs": [],
   "source": [
    "plt.show()\n"
   ]
  }
 ],
 "metadata": {
  "language_info": {
   "name": "python"
  }
 },
 "nbformat": 4,
 "nbformat_minor": 2
}
